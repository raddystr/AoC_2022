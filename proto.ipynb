{
 "cells": [
  {
   "cell_type": "code",
   "execution_count": 126,
   "metadata": {},
   "outputs": [],
   "source": [
    "from aoc_utils import input_parse"
   ]
  },
  {
   "cell_type": "code",
   "execution_count": 133,
   "metadata": {},
   "outputs": [
    {
     "name": "stdout",
     "output_type": "stream",
     "text": [
      "1816\n"
     ]
    }
   ],
   "source": [
    "import numpy as np\n",
    "\n",
    "with open(\"./inputs/input_8.txt\", \"r\") as fin:\n",
    "    lines = fin.read().strip().split()\n",
    "\n",
    "grid = [list(map(int, list(line))) for line in lines]\n",
    "\n",
    "n = len(grid)\n",
    "m = len(grid[0])\n",
    "\n",
    "grid = np.array(grid)\n",
    "\n",
    "ans = 0\n",
    "for i in range(n):\n",
    "    for j in range(m):\n",
    "        h = grid[i, j]\n",
    "\n",
    "        if j == 0 or np.amax(grid[i, :j]) < h:\n",
    "            ans += 1\n",
    "        elif j == m - 1 or np.amax(grid[i, (j+1):]) < h:\n",
    "            ans += 1\n",
    "        elif i == 0 or np.amax(grid[:i, j]) < h:\n",
    "            ans += 1\n",
    "        elif i == n - 1 or np.amax(grid[(i+1):, j]) < h:\n",
    "            ans += 1\n",
    "\n",
    "print(ans)\n",
    "\n",
    "\n",
    "\n",
    "\n",
    "\n",
    "\n",
    "\n",
    "\n"
   ]
  },
  {
   "cell_type": "code",
   "execution_count": 134,
   "metadata": {},
   "outputs": [
    {
     "name": "stdout",
     "output_type": "stream",
     "text": [
      "383520\n"
     ]
    }
   ],
   "source": [
    "import numpy as np\n",
    "\n",
    "with open(\"./inputs/input_8.txt\", \"r\") as fin:\n",
    "    lines = fin.read().strip().split()\n",
    "\n",
    "\n",
    "grid = [list(map(int, list(line))) for line in lines]\n",
    "\n",
    "n = len(grid)\n",
    "m = len(grid[0])\n",
    "\n",
    "grid = np.array(grid)\n",
    "\n",
    "dd = [[0, 1], [0, -1], [1, 0], [-1, 0]]\n",
    "\n",
    "ans = 0\n",
    "for i in range(n):\n",
    "    for j in range(m):\n",
    "        h = grid[i, j]\n",
    "        score = 1\n",
    "\n",
    "        # Scan in 4 directions\n",
    "        for di, dj in dd:\n",
    "            ii, jj = i + di, j + dj\n",
    "            dist = 0\n",
    "\n",
    "            while (0 <= ii < n and 0 <= jj < m) and grid[ii, jj] < h:\n",
    "                dist += 1\n",
    "                ii += di\n",
    "                jj += dj\n",
    "\n",
    "                if (0 <= ii < n and 0 <= jj < m) and grid[ii, jj] >= h:\n",
    "                    dist += 1\n",
    "\n",
    "            score *= dist\n",
    "\n",
    "        ans = max(ans, score)\n",
    "\n",
    "\n",
    "print(ans)"
   ]
  },
  {
   "cell_type": "code",
   "execution_count": null,
   "metadata": {},
   "outputs": [],
   "source": []
  }
 ],
 "metadata": {
  "kernelspec": {
   "display_name": "Python 3.11.0 64-bit ('3.11.0')",
   "language": "python",
   "name": "python3"
  },
  "language_info": {
   "codemirror_mode": {
    "name": "ipython",
    "version": 3
   },
   "file_extension": ".py",
   "mimetype": "text/x-python",
   "name": "python",
   "nbconvert_exporter": "python",
   "pygments_lexer": "ipython3",
   "version": "3.11.0"
  },
  "orig_nbformat": 4,
  "vscode": {
   "interpreter": {
    "hash": "e61488bec51f90c99383f767718513d957855391f88864e58aa2ef414e115efe"
   }
  }
 },
 "nbformat": 4,
 "nbformat_minor": 2
}
