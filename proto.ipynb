{
 "cells": [
  {
   "cell_type": "code",
   "execution_count": 154,
   "metadata": {},
   "outputs": [],
   "source": [
    "from aoc_utils import input_parse"
   ]
  },
  {
   "cell_type": "code",
   "execution_count": 155,
   "metadata": {},
   "outputs": [],
   "source": [
    "initial_schema = {\n",
    "    \"1\": [\"S\", \"M\", \"R\", \"N\", \"W\", \"J\", \"V\", \"T\"],\n",
    "    \"2\": [\"B\", \"W\", \"D\", \"J\", \"Q\", \"P\", \"C\", \"V\"],\n",
    "    \"3\": [\"B\", \"J\", \"F\", \"H\" , \"D\", \"R\", \"P\" ],\n",
    "    \"4\": [\"F\", \"R\", \"P\", \"B\", \"M\", \"N\", \"D\"], \n",
    "    \"5\": [\"H\", \"V\",\"R\", \"P\", \"T\", \"B\"],\n",
    "    \"6\": [\"C\", \"B\", \"P\", \"T\"], \n",
    "    \"7\": [\"B\", \"J\", \"R\", \"P\",\"L\"], \n",
    "    \"8\": [\"N\", \"C\", \"S\", \"L\", \"T\", \"Z\", \"B\", \"W\"], \n",
    "    \"9\": [\"L\", \"S\", \"G\"]\n",
    "}"
   ]
  },
  {
   "cell_type": "code",
   "execution_count": 156,
   "metadata": {},
   "outputs": [
    {
     "data": {
      "text/plain": [
       "{'1': ['S', 'M', 'R', 'N', 'W', 'J', 'V', 'T'],\n",
       " '2': ['B', 'W', 'D', 'J', 'Q', 'P', 'C', 'V'],\n",
       " '3': ['B', 'J', 'F', 'H', 'D', 'R', 'P'],\n",
       " '4': ['F', 'R', 'P', 'B', 'M', 'N', 'D'],\n",
       " '5': ['H', 'V', 'R', 'P', 'T', 'B'],\n",
       " '6': ['C', 'B', 'P', 'T'],\n",
       " '7': ['B', 'J', 'R', 'P', 'L'],\n",
       " '8': ['N', 'C', 'S', 'L', 'T', 'Z', 'B', 'W'],\n",
       " '9': ['L', 'S', 'G']}"
      ]
     },
     "execution_count": 156,
     "metadata": {},
     "output_type": "execute_result"
    }
   ],
   "source": [
    "initial_schema"
   ]
  },
  {
   "cell_type": "code",
   "execution_count": 157,
   "metadata": {},
   "outputs": [],
   "source": [
    "def crate_printer(schema):\n",
    "    crate = []\n",
    "    for c in schema.keys():\n",
    "        crate.append(schema[c][-1])\n",
    "    print(\"\".join(crate))\n",
    "    \n"
   ]
  },
  {
   "cell_type": "code",
   "execution_count": 158,
   "metadata": {},
   "outputs": [],
   "source": [
    "input_parsed = input_parse(\"input_5.txt\")"
   ]
  },
  {
   "cell_type": "code",
   "execution_count": 159,
   "metadata": {},
   "outputs": [],
   "source": [
    "def crate_movement(schema, movement, ver):\n",
    "    ls_movement = movement.split(\"\\n\")\n",
    "    for mv in ls_movement:\n",
    "        quantity, mv_from, mv_to = mv.split(\" \")[1], mv.split(\" \")[3],mv.split(\" \")[-1]\n",
    "        to_move = schema[mv_from][-int(quantity):]\n",
    "        if to_move and ver == 1:\n",
    "            to_move.reverse()\n",
    "        schema[mv_from] = schema[mv_from][:len(schema[mv_from])-int(quantity)]\n",
    "        schema[mv_to] = schema[mv_to] + to_move\n",
    "    crate_printer(schema)"
   ]
  },
  {
   "cell_type": "code",
   "execution_count": null,
   "metadata": {},
   "outputs": [],
   "source": []
  },
  {
   "cell_type": "code",
   "execution_count": 160,
   "metadata": {},
   "outputs": [
    {
     "name": "stdout",
     "output_type": "stream",
     "text": [
      "LJSVLTWQM\n"
     ]
    }
   ],
   "source": [
    "crate_movement(initial_schema, input_parsed)"
   ]
  },
  {
   "cell_type": "code",
   "execution_count": 65,
   "metadata": {},
   "outputs": [],
   "source": [
    "b = 2"
   ]
  },
  {
   "cell_type": "code",
   "execution_count": 66,
   "metadata": {},
   "outputs": [],
   "source": [
    "a = [1,2,3,4,5,7,8]"
   ]
  },
  {
   "cell_type": "code",
   "execution_count": 67,
   "metadata": {},
   "outputs": [],
   "source": [
    "a = a[-b:]"
   ]
  },
  {
   "cell_type": "code",
   "execution_count": 68,
   "metadata": {},
   "outputs": [
    {
     "data": {
      "text/plain": [
       "[7, 8]"
      ]
     },
     "execution_count": 68,
     "metadata": {},
     "output_type": "execute_result"
    }
   ],
   "source": [
    "a"
   ]
  },
  {
   "cell_type": "code",
   "execution_count": null,
   "metadata": {},
   "outputs": [],
   "source": []
  }
 ],
 "metadata": {
  "kernelspec": {
   "display_name": "Python 3.11.0 64-bit ('3.11.0')",
   "language": "python",
   "name": "python3"
  },
  "language_info": {
   "codemirror_mode": {
    "name": "ipython",
    "version": 3
   },
   "file_extension": ".py",
   "mimetype": "text/x-python",
   "name": "python",
   "nbconvert_exporter": "python",
   "pygments_lexer": "ipython3",
   "version": "3.11.0"
  },
  "orig_nbformat": 4,
  "vscode": {
   "interpreter": {
    "hash": "e61488bec51f90c99383f767718513d957855391f88864e58aa2ef414e115efe"
   }
  }
 },
 "nbformat": 4,
 "nbformat_minor": 2
}
