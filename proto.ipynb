{
 "cells": [
  {
   "cell_type": "code",
   "execution_count": 1,
   "metadata": {},
   "outputs": [],
   "source": [
    "from aoc_utils import input_parse"
   ]
  },
  {
   "cell_type": "code",
   "execution_count": 2,
   "metadata": {},
   "outputs": [
    {
     "name": "stdout",
     "output_type": "stream",
     "text": [
      "1816\n"
     ]
    }
   ],
   "source": [
    "import numpy as np\n",
    "\n",
    "with open(\"./inputs/input_8.txt\", \"r\") as fin:\n",
    "    lines = fin.read().strip().split()\n",
    "\n",
    "grid = [list(map(int, list(line))) for line in lines]\n",
    "\n",
    "n = len(grid)\n",
    "m = len(grid[0])\n",
    "\n",
    "grid = np.array(grid)\n",
    "\n",
    "ans = 0\n",
    "for i in range(n):\n",
    "    for j in range(m):\n",
    "        h = grid[i, j]\n",
    "\n",
    "        if j == 0 or np.amax(grid[i, :j]) < h:\n",
    "            ans += 1\n",
    "        elif j == m - 1 or np.amax(grid[i, (j+1):]) < h:\n",
    "            ans += 1\n",
    "        elif i == 0 or np.amax(grid[:i, j]) < h:\n",
    "            ans += 1\n",
    "        elif i == n - 1 or np.amax(grid[(i+1):, j]) < h:\n",
    "            ans += 1\n",
    "\n",
    "print(ans)\n",
    "\n",
    "\n",
    "\n",
    "\n",
    "\n",
    "\n",
    "\n",
    "\n"
   ]
  },
  {
   "cell_type": "code",
   "execution_count": 3,
   "metadata": {},
   "outputs": [
    {
     "name": "stdout",
     "output_type": "stream",
     "text": [
      "383520\n"
     ]
    }
   ],
   "source": [
    "import numpy as np\n",
    "\n",
    "with open(\"./inputs/input_8.txt\", \"r\") as fin:\n",
    "    lines = fin.read().strip().split()\n",
    "\n",
    "\n",
    "grid = [list(map(int, list(line))) for line in lines]\n",
    "\n",
    "n = len(grid)\n",
    "m = len(grid[0])\n",
    "\n",
    "grid = np.array(grid)\n",
    "\n",
    "dd = [[0, 1], [0, -1], [1, 0], [-1, 0]]\n",
    "\n",
    "ans = 0\n",
    "for i in range(n):\n",
    "    for j in range(m):\n",
    "        h = grid[i, j]\n",
    "        score = 1\n",
    "\n",
    "        # Scan in 4 directions\n",
    "        for di, dj in dd:\n",
    "            ii, jj = i + di, j + dj\n",
    "            dist = 0\n",
    "\n",
    "            while (0 <= ii < n and 0 <= jj < m) and grid[ii, jj] < h:\n",
    "                dist += 1\n",
    "                ii += di\n",
    "                jj += dj\n",
    "\n",
    "                if (0 <= ii < n and 0 <= jj < m) and grid[ii, jj] >= h:\n",
    "                    dist += 1\n",
    "\n",
    "            score *= dist\n",
    "\n",
    "        ans = max(ans, score)\n",
    "\n",
    "\n",
    "print(ans)"
   ]
  },
  {
   "cell_type": "code",
   "execution_count": 4,
   "metadata": {},
   "outputs": [],
   "source": [
    "input_9 = input_parse(\"input_9.txt\")"
   ]
  },
  {
   "cell_type": "code",
   "execution_count": 5,
   "metadata": {},
   "outputs": [
    {
     "data": {
      "text/plain": [
       "'U 2\\nL 2\\nU 1\\nR 2\\nD 2\\nL 1\\nR 1\\nU 2\\nD 1\\nL 2\\nD 2\\nR 2\\nD 1\\nL 1\\nU 2\\nD 2\\nR 1\\nU 1\\nL 1\\nD 1\\nL 1\\nR 2\\nU 1\\nD 2\\nU 2\\nD 1\\nL 1\\nD 1\\nL 2\\nR 2\\nD 2\\nR 1\\nD 2\\nR 1\\nD 2\\nR 1\\nU 2\\nL 1\\nU 2\\nR 2\\nD 2\\nU 1\\nR 1\\nL 2\\nD 1\\nL 1\\nR 1\\nD 2\\nR 2\\nL 1\\nR 2\\nU 1\\nL 2\\nR 1\\nD 1\\nR 2\\nU 2\\nR 2\\nL 1\\nU 2\\nR 1\\nL 1\\nU 2\\nR 2\\nD 2\\nU 1\\nL 2\\nD 2\\nR 1\\nL 2\\nD 2\\nL 2\\nR 1\\nL 1\\nU 2\\nD 1\\nU 1\\nD 1\\nL 1\\nD 2\\nU 1\\nL 2\\nR 2\\nD 1\\nU 1\\nD 2\\nL 2\\nD 1\\nR 1\\nU 2\\nD 2\\nL 2\\nR 2\\nU 1\\nD 1\\nU 1\\nL 1\\nD 2\\nR 1\\nD 2\\nU 1\\nD 2\\nU 2\\nL 2\\nR 2\\nD 2\\nR 1\\nU 2\\nR 2\\nL 2\\nU 1\\nL 3\\nU 3\\nD 1\\nU 2\\nR 1\\nU 3\\nR 2\\nU 3\\nD 1\\nR 1\\nU 2\\nD 2\\nU 2\\nD 2\\nR 2\\nU 3\\nD 1\\nL 1\\nR 2\\nU 2\\nL 3\\nU 3\\nD 2\\nL 3\\nU 3\\nR 2\\nD 3\\nL 3\\nU 2\\nD 2\\nU 3\\nR 1\\nD 1\\nR 2\\nU 3\\nD 3\\nR 3\\nD 2\\nL 3\\nD 2\\nR 3\\nD 1\\nR 2\\nU 1\\nD 3\\nR 2\\nD 1\\nU 3\\nL 1\\nU 2\\nL 1\\nR 3\\nD 1\\nL 1\\nD 1\\nR 2\\nU 2\\nR 1\\nD 1\\nR 2\\nD 1\\nR 3\\nL 3\\nU 1\\nR 2\\nU 1\\nL 1\\nD 1\\nU 3\\nD 1\\nL 1\\nR 1\\nU 1\\nD 3\\nU 1\\nR 3\\nU 1\\nL 1\\nD 2\\nR 2\\nU 1\\nR 1\\nL 2\\nR 1\\nU 2\\nL 3\\nR 3\\nL 1\\nR 3\\nD 3\\nU 3\\nR 1\\nU 2\\nL 2\\nD 2\\nR 3\\nL 2\\nR 3\\nU 1\\nL 1\\nR 2\\nD 2\\nR 3\\nU 2\\nD 3\\nR 2\\nL 1\\nD 3\\nR 2\\nL 3\\nU 2\\nL 1\\nU 2\\nR 1\\nU 2\\nD 1\\nL 2\\nU 3\\nR 1\\nU 4\\nR 1\\nU 4\\nR 1\\nL 1\\nD 3\\nL 3\\nR 3\\nU 4\\nL 1\\nR 2\\nD 4\\nU 2\\nL 3\\nU 1\\nR 4\\nD 1\\nL 1\\nU 4\\nD 4\\nL 3\\nR 2\\nD 4\\nR 4\\nD 1\\nU 2\\nL 4\\nU 3\\nD 2\\nL 4\\nD 2\\nL 4\\nU 2\\nD 4\\nL 1\\nD 2\\nU 4\\nL 2\\nU 1\\nD 3\\nU 4\\nD 2\\nL 1\\nR 2\\nL 4\\nU 4\\nL 3\\nR 4\\nD 3\\nR 4\\nD 2\\nL 3\\nU 2\\nL 3\\nU 1\\nD 3\\nL 4\\nR 2\\nD 2\\nL 1\\nU 2\\nR 2\\nL 1\\nD 2\\nU 3\\nL 1\\nU 1\\nL 4\\nU 4\\nL 2\\nR 1\\nU 1\\nR 4\\nL 4\\nD 2\\nL 4\\nD 4\\nL 3\\nU 4\\nD 4\\nL 2\\nU 1\\nL 1\\nR 1\\nL 4\\nU 4\\nL 2\\nD 1\\nR 2\\nD 2\\nL 2\\nR 2\\nL 1\\nU 3\\nL 1\\nU 2\\nD 2\\nR 2\\nD 3\\nL 4\\nR 2\\nL 3\\nR 3\\nU 3\\nL 5\\nU 1\\nD 3\\nL 1\\nU 5\\nL 3\\nU 4\\nL 4\\nR 5\\nD 5\\nR 1\\nL 3\\nD 1\\nU 5\\nR 3\\nU 4\\nD 4\\nU 1\\nD 4\\nU 4\\nR 4\\nU 4\\nR 4\\nU 5\\nR 3\\nD 3\\nL 1\\nD 3\\nU 4\\nR 2\\nU 2\\nR 2\\nU 2\\nL 3\\nR 4\\nL 2\\nD 5\\nU 4\\nD 4\\nL 4\\nR 4\\nU 5\\nR 1\\nD 4\\nL 4\\nU 1\\nL 2\\nU 3\\nD 1\\nR 5\\nU 4\\nD 5\\nL 5\\nD 2\\nL 1\\nU 3\\nD 4\\nR 4\\nL 2\\nR 4\\nD 3\\nR 5\\nL 4\\nR 1\\nD 3\\nL 2\\nR 5\\nD 3\\nR 1\\nU 1\\nL 5\\nD 1\\nU 4\\nL 2\\nU 4\\nD 5\\nL 4\\nD 5\\nL 2\\nD 3\\nR 5\\nL 2\\nD 1\\nR 5\\nD 1\\nL 2\\nU 1\\nD 1\\nL 3\\nR 4\\nL 1\\nD 1\\nU 3\\nD 1\\nR 2\\nD 5\\nR 3\\nD 5\\nL 2\\nD 2\\nU 5\\nD 3\\nR 5\\nD 3\\nR 4\\nU 2\\nL 5\\nR 2\\nD 5\\nR 1\\nU 5\\nR 6\\nD 6\\nU 2\\nR 3\\nL 2\\nU 4\\nR 1\\nD 6\\nL 3\\nU 5\\nR 2\\nL 6\\nU 1\\nD 5\\nL 3\\nR 3\\nU 5\\nL 1\\nR 3\\nU 3\\nL 3\\nR 6\\nD 6\\nL 3\\nU 2\\nR 1\\nL 4\\nR 5\\nL 6\\nR 4\\nD 6\\nU 6\\nL 6\\nU 2\\nL 4\\nD 6\\nR 2\\nD 2\\nR 3\\nD 2\\nL 1\\nU 4\\nR 4\\nD 1\\nR 2\\nL 1\\nD 5\\nL 6\\nU 6\\nD 2\\nL 2\\nD 1\\nU 3\\nD 1\\nL 4\\nU 5\\nR 6\\nU 5\\nL 2\\nR 6\\nD 5\\nR 3\\nL 4\\nU 6\\nL 3\\nD 6\\nL 4\\nR 5\\nL 5\\nR 4\\nD 4\\nL 5\\nR 3\\nU 6\\nD 6\\nL 3\\nD 6\\nU 1\\nD 5\\nL 5\\nR 3\\nL 4\\nR 1\\nL 1\\nU 3\\nD 6\\nU 6\\nR 2\\nD 1\\nU 2\\nL 1\\nR 5\\nU 1\\nL 5\\nU 3\\nR 3\\nD 3\\nL 4\\nD 6\\nU 1\\nR 5\\nL 3\\nU 5\\nR 2\\nU 5\\nL 3\\nD 6\\nR 6\\nD 2\\nR 5\\nU 3\\nD 6\\nU 7\\nR 7\\nL 7\\nU 2\\nL 6\\nU 2\\nR 5\\nL 7\\nU 2\\nD 5\\nU 2\\nR 2\\nU 2\\nL 1\\nD 5\\nU 5\\nR 2\\nU 6\\nR 2\\nD 3\\nR 1\\nD 4\\nL 3\\nR 5\\nU 7\\nD 6\\nU 5\\nD 2\\nL 5\\nU 5\\nL 5\\nR 7\\nU 3\\nL 7\\nU 7\\nL 3\\nU 5\\nD 7\\nL 4\\nD 6\\nL 2\\nU 7\\nD 1\\nL 6\\nR 6\\nD 7\\nU 5\\nL 2\\nD 7\\nU 1\\nD 5\\nL 2\\nU 2\\nD 1\\nU 7\\nR 1\\nD 3\\nL 4\\nD 5\\nR 4\\nL 6\\nR 1\\nL 1\\nD 2\\nR 5\\nU 4\\nL 2\\nD 7\\nR 1\\nU 3\\nL 2\\nU 3\\nL 2\\nU 6\\nD 1\\nU 3\\nL 2\\nU 4\\nR 3\\nL 7\\nD 7\\nR 6\\nL 1\\nR 3\\nU 1\\nR 3\\nD 5\\nR 2\\nU 4\\nR 1\\nU 1\\nL 6\\nD 7\\nU 5\\nD 1\\nR 2\\nU 1\\nL 6\\nR 6\\nU 6\\nD 1\\nU 4\\nD 4\\nU 4\\nL 2\\nD 5\\nU 4\\nR 4\\nU 7\\nD 4\\nU 5\\nD 5\\nU 8\\nL 6\\nU 5\\nL 1\\nD 5\\nR 1\\nD 7\\nL 8\\nU 4\\nR 7\\nU 7\\nD 4\\nL 4\\nU 7\\nD 1\\nR 4\\nL 2\\nU 2\\nR 7\\nL 1\\nR 2\\nL 2\\nR 1\\nL 3\\nD 7\\nL 3\\nD 7\\nU 6\\nL 1\\nD 4\\nU 2\\nD 8\\nR 4\\nD 2\\nR 7\\nL 8\\nU 5\\nL 7\\nU 5\\nR 1\\nD 4\\nR 8\\nL 2\\nR 7\\nL 4\\nU 6\\nR 3\\nD 6\\nL 8\\nR 5\\nU 5\\nR 1\\nD 3\\nU 8\\nR 3\\nD 5\\nL 1\\nD 2\\nR 8\\nD 3\\nR 6\\nL 2\\nR 1\\nU 5\\nR 5\\nU 7\\nL 3\\nR 3\\nL 8\\nD 5\\nL 2\\nD 3\\nL 5\\nD 6\\nL 5\\nU 2\\nR 3\\nU 5\\nR 7\\nD 2\\nU 5\\nR 2\\nD 3\\nL 5\\nR 1\\nU 7\\nL 5\\nD 5\\nR 4\\nU 6\\nD 8\\nR 2\\nD 4\\nL 3\\nR 4\\nD 1\\nL 7\\nU 8\\nL 3\\nU 6\\nD 6\\nL 4\\nD 1\\nU 6\\nL 4\\nR 2\\nL 5\\nD 5\\nL 5\\nD 6\\nR 2\\nU 1\\nL 7\\nR 4\\nD 9\\nU 1\\nL 3\\nD 7\\nL 9\\nD 3\\nU 9\\nL 6\\nD 6\\nU 5\\nD 5\\nR 2\\nD 8\\nR 2\\nD 1\\nU 9\\nD 7\\nR 2\\nD 3\\nU 1\\nL 3\\nD 5\\nR 3\\nL 6\\nD 7\\nU 2\\nR 8\\nU 2\\nL 6\\nD 4\\nL 5\\nR 5\\nL 6\\nD 5\\nL 1\\nU 8\\nD 1\\nL 9\\nD 6\\nR 5\\nD 4\\nU 2\\nR 9\\nD 1\\nU 4\\nD 1\\nU 7\\nL 4\\nR 4\\nD 8\\nU 3\\nR 7\\nL 1\\nD 4\\nL 9\\nU 7\\nL 6\\nR 2\\nL 6\\nD 4\\nL 8\\nU 8\\nL 2\\nR 1\\nL 9\\nD 9\\nL 2\\nU 7\\nL 5\\nD 2\\nU 1\\nL 6\\nD 6\\nL 1\\nR 8\\nD 3\\nR 8\\nL 6\\nU 7\\nD 9\\nU 7\\nL 7\\nD 4\\nR 8\\nD 3\\nR 9\\nL 1\\nU 4\\nL 2\\nR 9\\nL 3\\nD 9\\nR 7\\nD 3\\nU 4\\nD 9\\nR 4\\nL 6\\nU 9\\nD 7\\nU 8\\nD 7\\nL 1\\nR 2\\nU 3\\nD 7\\nU 5\\nR 4\\nL 8\\nD 9\\nL 1\\nU 9\\nL 1\\nD 1\\nL 2\\nU 2\\nR 8\\nD 6\\nL 4\\nU 9\\nL 3\\nR 9\\nU 4\\nL 5\\nR 6\\nU 6\\nD 6\\nL 5\\nD 4\\nL 9\\nR 1\\nL 3\\nD 8\\nL 1\\nR 2\\nD 8\\nU 10\\nL 1\\nD 8\\nL 4\\nU 7\\nD 4\\nR 10\\nD 5\\nL 5\\nU 10\\nR 3\\nU 6\\nL 10\\nR 2\\nU 5\\nR 7\\nL 5\\nR 6\\nU 4\\nD 8\\nU 8\\nD 7\\nR 8\\nU 3\\nD 7\\nR 4\\nD 4\\nL 8\\nR 2\\nU 9\\nR 1\\nL 7\\nR 6\\nD 2\\nU 9\\nR 4\\nD 9\\nR 7\\nD 6\\nU 3\\nL 4\\nD 9\\nL 9\\nD 8\\nL 4\\nR 4\\nU 6\\nD 2\\nU 3\\nD 1\\nL 1\\nR 10\\nL 1\\nD 2\\nR 4\\nU 6\\nL 3\\nD 4\\nL 4\\nD 1\\nL 9\\nD 8\\nR 5\\nD 3\\nU 2\\nD 9\\nR 10\\nD 10\\nR 10\\nU 5\\nD 4\\nR 4\\nD 4\\nL 8\\nD 4\\nR 10\\nD 9\\nL 8\\nD 1\\nR 1\\nD 8\\nL 1\\nD 8\\nR 4\\nU 8\\nR 4\\nU 4\\nL 4\\nU 8\\nD 4\\nL 8\\nD 3\\nU 3\\nR 5\\nD 9\\nL 10\\nR 8\\nU 5\\nL 4\\nU 8\\nR 6\\nD 3\\nL 8\\nU 11\\nD 4\\nR 3\\nL 5\\nD 10\\nU 11\\nD 2\\nL 5\\nD 4\\nR 4\\nD 5\\nR 11\\nL 7\\nU 9\\nR 6\\nL 7\\nD 6\\nR 4\\nD 4\\nU 9\\nR 6\\nD 2\\nU 3\\nD 8\\nL 6\\nU 6\\nR 11\\nU 10\\nR 6\\nL 5\\nR 4\\nD 1\\nL 10\\nR 5\\nU 4\\nR 3\\nD 4\\nU 9\\nR 8\\nD 4\\nU 11\\nL 2\\nD 9\\nU 5\\nR 3\\nD 4\\nR 6\\nU 11\\nR 4\\nD 2\\nL 1\\nR 1\\nU 4\\nL 5\\nU 9\\nL 8\\nR 6\\nD 11\\nL 4\\nD 5\\nL 11\\nD 7\\nU 11\\nD 3\\nU 3\\nL 5\\nR 9\\nD 2\\nL 9\\nR 7\\nL 3\\nD 7\\nL 10\\nD 1\\nL 5\\nU 8\\nD 1\\nL 5\\nU 11\\nD 8\\nR 6\\nD 9\\nU 2\\nD 11\\nR 8\\nU 5\\nD 6\\nR 1\\nU 7\\nD 10\\nL 8\\nD 2\\nL 7\\nD 9\\nR 12\\nU 11\\nR 8\\nD 9\\nR 1\\nD 10\\nL 3\\nR 10\\nD 9\\nL 2\\nR 3\\nD 6\\nL 12\\nU 3\\nR 2\\nU 11\\nR 8\\nL 12\\nD 9\\nR 10\\nL 2\\nD 6\\nL 8\\nU 4\\nR 5\\nU 8\\nL 11\\nR 7\\nD 3\\nL 2\\nR 2\\nU 4\\nR 12\\nL 8\\nU 1\\nR 5\\nL 9\\nD 7\\nR 9\\nD 8\\nL 2\\nR 12\\nL 5\\nD 6\\nR 10\\nU 11\\nR 12\\nL 9\\nD 5\\nL 7\\nU 7\\nR 9\\nL 10\\nR 11\\nU 11\\nD 8\\nL 3\\nU 10\\nD 1\\nR 11\\nL 7\\nR 5\\nL 11\\nD 6\\nU 5\\nD 5\\nU 12\\nD 7\\nL 1\\nR 3\\nD 8\\nL 10\\nR 2\\nD 10\\nR 12\\nU 10\\nR 7\\nU 12\\nR 11\\nU 5\\nD 12\\nR 6\\nD 1\\nU 2\\nL 8\\nR 7\\nD 12\\nU 5\\nR 10\\nL 2\\nR 3\\nD 10\\nU 2\\nL 8\\nD 6\\nR 12\\nL 5\\nR 7\\nU 1\\nR 2\\nL 5\\nD 1\\nU 12\\nL 2\\nU 6\\nD 8\\nU 3\\nD 11\\nL 5\\nR 6\\nL 10\\nU 9\\nD 6\\nR 5\\nL 4\\nR 6\\nL 9\\nD 12\\nU 7\\nL 2\\nD 6\\nL 1\\nU 1\\nR 7\\nL 13\\nD 8\\nU 4\\nL 5\\nD 11\\nU 12\\nR 5\\nU 7\\nD 5\\nL 4\\nD 9\\nL 9\\nU 1\\nL 9\\nU 1\\nL 2\\nU 13\\nL 2\\nR 11\\nL 7\\nR 8\\nU 11\\nD 13\\nU 10\\nR 5\\nU 5\\nL 6\\nR 7\\nD 5\\nL 1\\nR 5\\nU 6\\nD 13\\nU 4\\nL 10\\nU 6\\nL 3\\nU 7\\nR 6\\nU 4\\nL 11\\nU 7\\nL 6\\nR 13\\nU 10\\nR 11\\nD 11\\nU 9\\nD 2\\nU 4\\nR 9\\nL 11\\nR 7\\nU 1\\nL 5\\nU 8\\nD 5\\nL 12\\nU 3\\nD 7\\nL 2\\nR 6\\nL 4\\nD 12\\nU 5\\nR 12\\nL 13\\nD 6\\nU 3\\nL 11\\nR 4\\nL 3\\nR 8\\nU 12\\nD 11\\nU 3\\nR 10\\nU 12\\nL 7\\nD 10\\nR 1\\nU 5\\nL 1\\nU 13\\nD 12\\nU 1\\nL 2\\nR 12\\nD 13\\nR 2\\nD 6\\nL 12\\nU 10\\nR 14\\nU 14\\nR 2\\nD 4\\nL 10\\nR 7\\nU 14\\nL 5\\nD 7\\nL 12\\nR 2\\nD 9\\nR 8\\nD 2\\nR 4\\nU 5\\nL 9\\nR 13\\nL 14\\nR 1\\nU 8\\nR 12\\nU 10\\nD 2\\nR 5\\nU 8\\nD 4\\nU 9\\nD 3\\nR 5\\nD 7\\nL 8\\nR 11\\nD 2\\nU 11\\nL 4\\nR 2\\nU 2\\nD 10\\nU 14\\nL 3\\nR 3\\nD 3\\nR 14\\nL 2\\nR 6\\nD 9\\nU 1\\nL 14\\nR 9\\nL 7\\nR 10\\nU 7\\nL 14\\nR 11\\nL 11\\nD 10\\nR 11\\nU 13\\nL 2\\nD 7\\nL 4\\nD 10\\nL 10\\nR 12\\nD 7\\nR 14\\nL 13\\nD 8\\nR 5\\nL 12\\nD 6\\nR 5\\nD 3\\nU 6\\nL 10\\nD 6\\nR 8\\nU 9\\nR 4\\nD 7\\nR 6\\nD 12\\nR 5\\nD 6\\nL 14\\nU 12\\nL 10\\nU 14\\nD 12\\nL 12\\nR 2\\nU 14\\nR 14\\nD 11\\nR 14\\nU 12\\nD 2\\nU 10\\nR 4\\nU 7\\nD 9\\nU 10\\nD 12\\nU 8\\nD 10\\nL 3\\nR 8\\nL 5\\nD 2\\nR 6\\nL 1\\nD 8\\nU 3\\nL 4\\nU 3\\nR 5\\nL 10\\nD 10\\nU 14\\nD 2\\nU 3\\nR 13\\nL 7\\nR 12\\nL 10\\nR 14\\nD 4\\nL 10\\nR 3\\nU 14\\nL 2\\nD 15\\nR 14\\nD 2\\nR 14\\nL 12\\nD 10\\nR 3\\nD 2\\nL 3\\nR 3\\nD 5\\nL 2\\nR 1\\nL 5\\nD 14\\nL 8\\nR 10\\nL 14\\nD 8\\nL 8\\nD 8\\nR 15\\nD 12\\nU 7\\nD 13\\nL 13\\nU 4\\nL 7\\nU 13\\nR 7\\nU 12\\nR 1\\nD 7\\nR 5\\nL 10\\nR 11\\nL 15\\nD 13\\nL 8\\nD 12\\nU 15\\nL 11\\nR 10\\nU 13\\nR 12\\nU 6\\nR 11\\nD 13\\nR 8\\nD 15\\nL 2\\nD 5\\nU 11\\nR 5\\nL 13\\nD 4\\nR 15\\nD 13\\nR 10\\nL 10\\nU 1\\nR 11\\nU 3\\nR 5\\nD 11\\nU 5\\nR 6\\nU 6\\nD 14\\nL 2\\nR 14\\nU 2\\nR 1\\nL 11\\nU 15\\nR 2\\nD 10\\nL 5\\nD 3\\nU 4\\nD 9\\nU 2\\nL 13\\nR 2\\nD 7\\nR 15\\nD 1\\nU 9\\nR 15\\nL 5\\nD 4\\nL 10\\nD 16\\nU 8\\nR 11\\nL 12\\nU 5\\nL 16\\nR 1\\nD 10\\nR 11\\nL 16\\nD 4\\nU 8\\nD 7\\nU 13\\nD 3\\nR 5\\nU 9\\nR 6\\nU 12\\nD 4\\nU 15\\nL 5\\nU 15\\nL 6\\nU 12\\nR 8\\nL 3\\nR 2\\nU 3\\nL 3\\nR 10\\nL 11\\nU 6\\nD 11\\nL 4\\nR 6\\nD 8\\nU 14\\nL 5\\nD 13\\nR 13\\nD 9\\nL 10\\nD 16\\nR 14\\nL 6\\nD 7\\nU 2\\nL 11\\nD 14\\nR 4\\nU 6\\nR 7\\nL 13\\nU 6\\nL 8\\nD 13\\nR 4\\nU 13\\nL 15\\nU 16\\nL 8\\nD 14\\nL 3\\nR 7\\nD 3\\nU 9\\nD 7\\nU 12\\nR 4\\nD 3\\nU 11\\nD 7\\nL 9\\nU 6\\nL 5\\nU 12\\nD 6\\nR 5\\nD 9\\nU 14\\nD 9\\nR 6\\nU 16\\nR 11\\nU 16\\nL 15\\nR 15\\nU 10\\nL 13\\nD 12\\nR 4\\nD 5\\nL 5\\nU 1\\nD 11\\nR 10\\nU 7\\nR 13\\nU 6\\nL 6\\nD 5\\nR 13\\nU 13\\nD 3\\nU 11\\nL 4\\nR 5\\nU 4\\nD 5\\nL 17\\nR 2\\nL 12\\nR 10\\nL 17\\nU 1\\nR 11\\nD 12\\nL 10\\nU 8\\nL 15\\nR 8\\nU 9\\nL 17\\nD 13\\nL 5\\nR 7\\nL 1\\nD 8\\nR 6\\nD 1\\nU 3\\nD 10\\nR 6\\nL 6\\nU 15\\nR 1\\nU 17\\nL 17\\nR 4\\nU 4\\nR 10\\nU 12\\nL 5\\nD 12\\nR 14\\nD 17\\nR 1\\nU 1\\nR 9\\nU 2\\nD 4\\nR 17\\nL 9\\nD 5\\nU 2\\nL 7\\nD 8\\nR 11\\nU 12\\nD 13\\nR 16\\nL 15\\nD 15\\nL 2\\nR 10\\nD 16\\nR 13\\nD 2\\nR 6\\nD 16\\nL 8\\nD 2\\nL 10\\nU 7\\nL 14\\nR 16\\nL 5\\nD 5\\nR 10\\nL 2\\nU 13\\nR 10\\nL 9\\nU 1\\nL 10\\nR 10\\nU 14\\nD 6\\nR 11\\nD 4\\nR 12\\nD 4\\nL 1\\nD 14\\nL 2\\nU 3\\nL 15\\nU 9\\nD 12\\nR 13\\nD 14\\nR 5\\nL 6\\nD 14\\nR 14\\nL 16\\nR 7\\nU 7\\nL 14\\nR 11\\nU 9\\nD 11\\nU 9\\nL 10\\nR 13\\nL 4\\nR 12\\nU 15\\nR 9\\nD 10\\nU 3\\nR 7\\nU 1\\nR 6\\nD 17\\nU 16\\nD 4\\nR 12\\nU 3\\nR 18\\nD 17\\nL 8\\nU 11\\nD 6\\nL 9\\nR 17\\nL 14\\nD 1\\nL 2\\nD 6\\nU 13\\nL 3\\nR 18\\nD 4\\nL 13\\nU 7\\nD 6\\nU 11\\nL 11\\nU 8\\nR 10\\nL 15\\nU 4\\nD 6\\nR 18\\nU 17\\nR 16\\nD 11\\nU 5\\nR 16\\nL 5\\nD 16\\nU 1\\nR 9\\nL 10\\nU 7\\nR 17\\nU 8\\nL 7\\nR 14\\nL 11\\nR 9\\nD 8\\nR 9\\nU 1\\nR 14\\nL 15\\nU 6\\nL 4\\nR 3\\nL 15\\nU 15\\nD 17\\nU 12\\nD 14\\nR 13\\nU 11\\nD 10\\nU 16\\nL 8\\nR 11\\nU 6\\nD 11\\nU 9\\nR 15\\nL 12\\nU 6\\nL 13\\nU 12\\nR 3\\nU 16\\nL 2\\nU 15\\nL 15\\nR 4\\nD 5\\nR 8\\nD 9\\nL 8\\nU 7\\nR 2\\nD 10\\nL 12\\nR 1\\nU 11\\nR 17\\nU 18\\nD 6\\nL 12\\nU 2\\nR 2\\nU 14\\nD 17\\nL 7\\nR 12\\nU 13\\nD 18\\nL 8\\nR 4\\nU 10\\nR 10\\nL 8\\nU 4\\nL 1\\nU 15\\nL 6\\nD 6\\nL 10\\nR 12\\nD 2\\nR 10\\nU 16\\nL 12\\nD 1\\nR 11\\nD 10\\nU 19\\nR 7\\nD 18\\nU 1\\nD 7\\nR 3\\nU 19\\nR 12\\nU 5\\nL 11\\nU 8\\nD 12\\nR 2\\nD 16\\nU 14\\nR 14\\nD 1\\nU 17\\nL 15\\nD 8\\nL 18\\nD 2\\nL 14\\nU 10\\nL 17\\nD 2\\nU 14\\nL 17\\nU 15\\nR 18\\nL 11\\nR 15\\nU 4\\nL 8\\nD 10\\nL 17\\nU 13\\nR 1\\nL 10\\nU 16\\nR 9\\nL 4\\nD 13\\nR 13\\nU 10\\nR 12\\nL 14\\nU 10\\nD 5\\nR 18\\nL 8\\nD 8\\nR 5\\nD 19\\nU 10\\nR 8\\nU 12\\nR 12\\nD 6\\nU 7\\nL 2\\nU 5\\nL 6\\nR 1\\nD 16\\nR 16\\nU 15\\nR 2\\nD 15\\nR 2\\nD 10\\nL 4\\nD 8\\nR 17\\nD 6\\nR 7\\nU 10\\nR 8\\nD 16\\nR 3\\nD 17\\nR 11\\nD 18\\nL 3\\nR 11\\nD 8\\nR 14\\nD 7\\nU 14\\nR 12\\nL 2\\nR 18\\nL 6\\nR 2\\nD 3\\nR 18'"
      ]
     },
     "execution_count": 5,
     "metadata": {},
     "output_type": "execute_result"
    }
   ],
   "source": [
    "input_9"
   ]
  },
  {
   "cell_type": "code",
   "execution_count": 6,
   "metadata": {},
   "outputs": [
    {
     "data": {
      "text/plain": [
       "615"
      ]
     },
     "execution_count": 6,
     "metadata": {},
     "output_type": "execute_result"
    }
   ],
   "source": [
    "1165 - (250 + 300) "
   ]
  },
  {
   "cell_type": "code",
   "execution_count": 8,
   "metadata": {},
   "outputs": [
    {
     "data": {
      "text/plain": [
       "20.6"
      ]
     },
     "execution_count": 8,
     "metadata": {},
     "output_type": "execute_result"
    }
   ],
   "source": [
    "515 / 25"
   ]
  },
  {
   "cell_type": "code",
   "execution_count": 10,
   "metadata": {},
   "outputs": [
    {
     "name": "stdout",
     "output_type": "stream",
     "text": [
      "6470\n",
      "2658\n"
     ]
    }
   ],
   "source": [
    "import sys\n",
    "from collections import defaultdict\n",
    "``\n",
    "data = input_parse(\"input_9.txt\")\n",
    "lines = [x for x in data.split('\\n')]\n",
    "\n",
    "def adjust(H,T):\n",
    "    dr = (H[0]-T[0])\n",
    "    dc = (H[1]-T[1])\n",
    "    if abs(dr)<=1 and abs(dc)<=1:\n",
    "        # ok\n",
    "        pass\n",
    "    elif abs(dr)>=2 and abs(dc)>=2:\n",
    "        #2       2       2 \n",
    "        # 1   ->  1   ->  .   -> 2\n",
    "        #  H       .H      1H     1H\n",
    "        T = (H[0]-1 if T[0]<H[0] else H[0]+1, H[1]-1 if T[1]<H[1] else H[1]+1)\n",
    "    elif abs(dr)>=2:\n",
    "        # T     T       .\n",
    "        #  H ->  .H  ->  TH\n",
    "        T = (H[0]-1 if T[0]<H[0] else H[0]+1, H[1])\n",
    "    elif abs(dc)>=2:\n",
    "        T = (H[0], H[1]-1 if T[1]<H[1] else H[1]+1)\n",
    "    return T\n",
    "\n",
    "H = (0,0)\n",
    "T = [(0,0) for _ in range(9)]\n",
    "DR = {'L': 0, 'U': -1, 'R': 0, 'D': 1}\n",
    "DC = {'L': -1, 'U': 0, 'R': 1, 'D': 0}\n",
    "P1 = set([T[0]])\n",
    "P2 = set([T[8]])\n",
    "for line in lines:\n",
    "    d,amt = line.split()\n",
    "    amt = int(amt)\n",
    "    for _ in range(amt):\n",
    "        H = (H[0] + DR[d], H[1]+DC[d])\n",
    "        T[0] = adjust(H, T[0])\n",
    "        for i in range(1, 9):\n",
    "            T[i] = adjust(T[i-1], T[i])\n",
    "        P1.add(T[0])\n",
    "        P2.add(T[8])\n",
    "print(len(P1))\n",
    "print(len(P2))"
   ]
  },
  {
   "cell_type": "code",
   "execution_count": 5,
   "metadata": {},
   "outputs": [],
   "source": [
    "def varfun(some_args, *args, **kwargs):\n",
    "    print(*args)\n",
    "    print(*kwargs)"
   ]
  },
  {
   "cell_type": "code",
   "execution_count": 8,
   "metadata": {},
   "outputs": [
    {
     "name": "stdout",
     "output_type": "stream",
     "text": [
      "1111 222 2312\n",
      "sada\n"
     ]
    }
   ],
   "source": [
    "varfun(\"ope\", 1111,222,2312, sada=1)"
   ]
  },
  {
   "cell_type": "code",
   "execution_count": 33,
   "metadata": {},
   "outputs": [],
   "source": [
    "a = ['b', 'b', 'c', 'd', 'y', 'c', 'c']"
   ]
  },
  {
   "cell_type": "code",
   "execution_count": 34,
   "metadata": {},
   "outputs": [
    {
     "data": {
      "text/plain": [
       "['b', 'b', 'c', 'd', 'y', 'c', 'c']"
      ]
     },
     "execution_count": 34,
     "metadata": {},
     "output_type": "execute_result"
    }
   ],
   "source": [
    "a"
   ]
  },
  {
   "cell_type": "code",
   "execution_count": 37,
   "metadata": {},
   "outputs": [],
   "source": [
    "\n",
    "my_dict = {x:a.count(x) for x in a}"
   ]
  },
  {
   "cell_type": "code",
   "execution_count": 38,
   "metadata": {},
   "outputs": [
    {
     "data": {
      "text/plain": [
       "{'b': 2, 'c': 3, 'd': 1, 'y': 1}"
      ]
     },
     "execution_count": 38,
     "metadata": {},
     "output_type": "execute_result"
    }
   ],
   "source": [
    "my_dict"
   ]
  },
  {
   "cell_type": "code",
   "execution_count": 41,
   "metadata": {},
   "outputs": [],
   "source": [
    "data = [('John', 'Tilsit'), ('Eric', 'Cheshire'), ('Michael', 'Camembert'),\n",
    " ('Terry', 'Gouda'), ('Terry', 'Port Salut'), ('Michael', 'Edam'),\n",
    " ('Eric', 'Ilchester'), ('John', 'Fynbo')]\n",
    "def cheeses_by_owner (cheeses_data):\n",
    "    by_owner = {}\n",
    "    for owner, cheese in cheeses_data: # <- tuple unpacking\n",
    "        if owner in by_owner:\n",
    "            by_owner[owner].append(cheese)\n",
    "        else:\n",
    "            by_owner[owner] = [cheese]\n",
    "    return by_owner"
   ]
  },
  {
   "cell_type": "code",
   "execution_count": 42,
   "metadata": {},
   "outputs": [
    {
     "data": {
      "text/plain": [
       "{'John': ['Tilsit', 'Fynbo'],\n",
       " 'Eric': ['Cheshire', 'Ilchester'],\n",
       " 'Michael': ['Camembert', 'Edam'],\n",
       " 'Terry': ['Gouda', 'Port Salut']}"
      ]
     },
     "execution_count": 42,
     "metadata": {},
     "output_type": "execute_result"
    }
   ],
   "source": [
    "cheeses_by_owner(data)"
   ]
  },
  {
   "cell_type": "code",
   "execution_count": 49,
   "metadata": {},
   "outputs": [],
   "source": [
    "def start(x):\n",
    "    def increment(y):\n",
    "        return x +y\n",
    "        print(f'{x} + {y}')\n",
    "    return increment\n"
   ]
  },
  {
   "cell_type": "code",
   "execution_count": 48,
   "metadata": {},
   "outputs": [
    {
     "data": {
      "text/plain": [
       "4"
      ]
     },
     "execution_count": 48,
     "metadata": {},
     "output_type": "execute_result"
    }
   ],
   "source": [
    "a(3)"
   ]
  },
  {
   "cell_type": "code",
   "execution_count": null,
   "metadata": {},
   "outputs": [],
   "source": []
  },
  {
   "cell_type": "code",
   "execution_count": null,
   "metadata": {},
   "outputs": [],
   "source": []
  }
 ],
 "metadata": {
  "kernelspec": {
   "display_name": "Python 3.11.0 64-bit ('3.11.0')",
   "language": "python",
   "name": "python3"
  },
  "language_info": {
   "codemirror_mode": {
    "name": "ipython",
    "version": 3
   },
   "file_extension": ".py",
   "mimetype": "text/x-python",
   "name": "python",
   "nbconvert_exporter": "python",
   "pygments_lexer": "ipython3",
   "version": "3.11.0 (main, Nov  9 2022, 00:02:58) [GCC 11.3.0]"
  },
  "orig_nbformat": 4,
  "vscode": {
   "interpreter": {
    "hash": "e61488bec51f90c99383f767718513d957855391f88864e58aa2ef414e115efe"
   }
  }
 },
 "nbformat": 4,
 "nbformat_minor": 2
}
